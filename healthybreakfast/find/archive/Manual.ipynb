{
 "cells": [
  {
   "cell_type": "code",
   "execution_count": 33,
   "metadata": {},
   "outputs": [],
   "source": [
    "# Class  with inheritance:\n",
    "import pandas as pd\n",
    "import matplotlib.pyplot as plt\n",
    "# First calss with default values:\n",
    "class diet:\n",
    "    def default_values(gender,nutrient=\"p\"):\n",
    "        # Add more default values:\n",
    "        diet={\"man\": {\"p\": 78,\"cal\": 9800},\n",
    "               \"woman\": {\"p\": 89,\"cal\": 1600}}\n",
    "        return diet[gender]\n",
    "    def display_function():\n",
    "        print(\"Hey there! Here is your Nutrional Manual!!\")\n",
    "        # Maybe insert some smilies, etc to make them more interactive\n",
    "        \n",
    "class manual_display(diet):\n",
    "    def __init__(self,gender,nutrient):\n",
    "        self.gender=gender\n",
    "        self.nutrient=nutrient\n",
    "    \n",
    "    def required_bar_graphs(self):\n",
    "        diet.display_function()\n",
    "        #print(diet.default_values(self.gender,self.nutrient))\n",
    "        dict_mw=diet.default_values(self.gender)\n",
    "        keys=dict_mw.keys()\n",
    "        values=dict_mw.values()\n",
    "        plt.bar(keys,values)\n",
    "        \n"
   ]
  },
  {
   "cell_type": "code",
   "execution_count": 34,
   "metadata": {},
   "outputs": [
    {
     "name": "stdout",
     "output_type": "stream",
     "text": [
      "Hey there! Here is your Nutrional Manual!!\n"
     ]
    },
    {
     "data": {
      "image/png": "[encoded data removed]",
      "text/plain": [
       "<Figure size 432x288 with 1 Axes>"
      ]
     },
     "metadata": {
      "needs_background": "light"
     },
     "output_type": "display_data"
    }
   ],
   "source": [
    "m=manual_display(\"woman\",\"p\")\n",
    "m.required_bar_graphs()\n"
   ]
  }
 ],
 "metadata": {
  "kernelspec": {
   "display_name": "Python 3",
   "language": "python",
   "name": "python3"
  },
  "language_info": {
   "codemirror_mode": {
    "name": "ipython",
    "version": 3
   },
   "file_extension": ".py",
   "mimetype": "text/x-python",
   "name": "python",
   "nbconvert_exporter": "python",
   "pygments_lexer": "ipython3",
   "version": "3.8.3"
  }
 },
 "nbformat": 4,
 "nbformat_minor": 4
}
