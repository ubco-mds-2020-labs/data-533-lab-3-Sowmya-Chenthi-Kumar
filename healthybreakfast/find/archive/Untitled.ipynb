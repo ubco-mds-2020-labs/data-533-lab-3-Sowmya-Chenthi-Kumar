{
 "cells": [
  {
   "cell_type": "code",
   "execution_count": null,
   "metadata": {},
   "outputs": [],
   "source": [
    "# Test programe:\n",
    "\n",
    "\n",
    "print(\"Enter their name\")"
   ]
  },
  {
   "cell_type": "code",
   "execution_count": null,
   "metadata": {},
   "outputs": [],
   "source": [
    "# Show the protein and calories for each of those brands:\n",
    "def brand_info(cereal_name1,name_2,name_3):\n",
    "    df_1=pd.read_excel(\"C:/Users/mural/DATA_533_LAB2/PACKAGE/cereal.xlsx\",sheet_name='Modified_Cereal')\n",
    "    cereal_data = df_1[df_1['name'].isin([cereal_name1,name_2,name_3])]      \n",
    "    #return cereal_data\n",
    "    cereal_data.plot.barh()\n",
    "    #data_2= df_1[df_1['name']==name_2]\n",
    "    #data_2.plot.barh()\n",
    "    #return data_2\n",
    "    \n",
    "    #data_3=df_1[df_1['name']==name_3]\n",
    "\n",
    "brand_info(\"Special K\",\"Cheerios\",\"All Bran\")"
   ]
  },
  {
   "cell_type": "code",
   "execution_count": null,
   "metadata": {},
   "outputs": [],
   "source": [
    "df_1=pd.read_excel(\"C:/Users/mural/DATA_533_LAB2/PACKAGE/cereal.xlsx\",sheet_name='Modified_Cereal')\n",
    "plot_data=df_1[(df_1['name']=='Cheerios')|(df_1['name']=='Special K')]\n",
    "ax=plot_data.plot.bar(x='name',grid='on',figsize=(14,4))\n",
    "for p in ax.patches:\n",
    "    ax.annotate(str(round(p.get_height())), (p.get_x() * 1.005, p.get_height() * 1.005))"
   ]
  },
  {
   "cell_type": "code",
   "execution_count": null,
   "metadata": {},
   "outputs": [],
   "source": [
    "df_1=pd.read_excel(\"C:/Users/mural/DATA_533_LAB2/PACKAGE/cereal.xlsx\",sheet_name='Modified_Cereal')\n",
    "df_1[df_1['name']==\"All-Bran\"]\n"
   ]
  },
  {
   "cell_type": "code",
   "execution_count": null,
   "metadata": {},
   "outputs": [],
   "source": [
    "one=df_1[(df_1['protein']>=4)]\n",
    "#two=df_1[df_1['fat']<2]\n",
    "#before_sort=pd.merge(one,two,how='inner',on=['name'])\n",
    "#b_sort=pd.DataFrame(before_sort)\n",
    "#b_sort.sort_values(by='name',ascending=False)\n",
    "one=one[one['fat']<=2]\n",
    "one.sort_values(by='protein',ascending=False)"
   ]
  },
  {
   "cell_type": "code",
   "execution_count": null,
   "metadata": {},
   "outputs": [],
   "source": [
    "df_1.plot.barh(x='name',\n",
    "                 y=['protein','fat'],figsize=(4,14))"
   ]
  }
 ],
 "metadata": {
  "kernelspec": {
   "display_name": "Python 3",
   "language": "python",
   "name": "python3"
  },
  "language_info": {
   "codemirror_mode": {
    "name": "ipython",
    "version": 3
   },
   "file_extension": ".py",
   "mimetype": "text/x-python",
   "name": "python",
   "nbconvert_exporter": "python",
   "pygments_lexer": "ipython3",
   "version": "3.8.3"
  }
 },
 "nbformat": 4,
 "nbformat_minor": 4
}
