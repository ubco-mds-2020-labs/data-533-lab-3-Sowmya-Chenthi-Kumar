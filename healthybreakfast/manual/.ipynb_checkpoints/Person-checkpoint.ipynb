{
 "cells": [
  {
   "cell_type": "code",
   "execution_count": 17,
   "metadata": {},
   "outputs": [],
   "source": [
    "# Class  with inheritance:\n",
    "import pandas as pd\n",
    "import matplotlib.pyplot as plt\n",
    "# First calss with default values:\n",
    "class diet:\n",
    "    def default_values(gender,nutrient):\n",
    "        # Add more default values:\n",
    "        diet={\"man\": {\"protein\": 56,\"cal\": 2500,\"fat\":83, \"sodium\":2300, \"fiber\":38, \"carbs\":300,\"potassium\":3000},\n",
    "               \"woman\": {\"protein\": 46,\"cal\": 2000, \"fat\":67,\"sodium\": 2000, \"fiber\":25,\"carbs\":250,\"potassium\":2300}}\n",
    "        return diet[gender]\n",
    "    def display_function():\n",
    "        print(\"Hey there! Here is your Nutrional Manual!!\")\n",
    "        \n",
    "        \n",
    "class manual_display(diet):\n",
    "    def __init__(self,gender,nutrient):\n",
    "        self.gender=gender\n",
    "        self.nutrient=nutrient\n",
    "    \n",
    "    def required_bar_graphs(self):\n",
    "        diet.display_function()\n",
    "        dict_mw=diet.default_values(self.gender, self.nutrient)\n",
    "        keys=dict_mw.keys()\n",
    "        values=dict_mw.values()\n",
    "        plt.bar(keys,values)"
   ]
  },
  {
   "cell_type": "code",
   "execution_count": 20,
   "metadata": {},
   "outputs": [
    {
     "name": "stdout",
     "output_type": "stream",
     "text": [
      "Hey there! Here is your Nutrional Manual!!\n"
     ]
    },
    {
     "data": {
      "image/png": "[encoded data removed]",
      "text/plain": [
       "<Figure size 432x288 with 1 Axes>"
      ]
     },
     "metadata": {
      "needs_background": "light"
     },
     "output_type": "display_data"
    }
   ],
   "source": [
    "m=manual_display(\"man\", \"nutrient\")\n",
    "m.required_bar_graphs()"
   ]
  },
  {
   "cell_type": "code",
   "execution_count": null,
   "metadata": {},
   "outputs": [],
   "source": []
  }
 ],
 "metadata": {
  "kernelspec": {
   "display_name": "Python 3",
   "language": "python",
   "name": "python3"
  },
  "language_info": {
   "codemirror_mode": {
    "name": "ipython",
    "version": 3
   },
   "file_extension": ".py",
   "mimetype": "text/x-python",
   "name": "python",
   "nbconvert_exporter": "python",
   "pygments_lexer": "ipython3",
   "version": "3.8.3"
  }
 },
 "nbformat": 4,
 "nbformat_minor": 4
}
