{
 "cells": [
  {
   "cell_type": "code",
   "execution_count": null,
   "metadata": {},
   "outputs": [],
   "source": [
    "## Default values for data\n",
    "\n",
    "class Cereal:\n",
    "    def __init__(self, name, protein, calories):\n",
    "        self.name = name\n",
    "        self.protein = protein\n",
    "        self.calories = calories\n",
    "        \n",
    "    def men(self):\n",
    "        self.protein = 63\n",
    "        self.calories = 2900\n",
    "    \n",
    "    \n",
    "        \n",
    "class women(Cereal):\n",
    "    def __init__(self, name, protein, calories, fat):\n",
    "        Cereal.__init__(self, name, protein, calories)\n",
    "        self.fat = fat\n",
    "        \n",
    "    def women(self):\n",
    "        self.protein = 50\n",
    "        self.calories = 2200\n",
    "        self.fat = self.calories/9\n",
    "        "
   ]
  },
  {
   "cell_type": "code",
   "execution_count": null,
   "metadata": {},
   "outputs": [],
   "source": [
    "class PRINT:\n",
    "    def __init__(self):\n",
    "        pass\n",
    "    def displaymen:\n",
    "        print(\"JPEGFILE1\")\n",
    "        print(\"Default daily protein intake for men:\", 63)\n",
    "        print(\"Default daily calories intake for men:\", 2900)\n",
    "    def displaywomen:\n",
    "        print(\"JPEGFILE2\")\n",
    "        print(\"Default daily protein intake for women:\", 50)\n",
    "        print(\"Default daily calories intake for men:\", 2200)\n",
    "class \n",
    "    "
   ]
  },
  {
   "cell_type": "code",
   "execution_count": null,
   "metadata": {},
   "outputs": [],
   "source": [
    "class Graphs:\n",
    " \n",
    "      \n",
    "    # drop down:\n",
    "        # men, women, pregnant women\n",
    "        # age group\n",
    "        # current protein intake\n",
    "        # current calories intake\n",
    "\n",
    "    # bar graph:\n",
    "        # current level of nutrients intake\n",
    "        # proposed level of nutrients (final, recommended values)\n",
    "        # show the difference on graph\n",
    "        \n",
    "    # print out showing \n",
    "        \n",
    "    # recommendation\n",
    "        # recommend cereals based on deficiency\n",
    "        # final nutrients level after cereal intake\n",
    "        # anything in excess can be shown in \"red\" shade\n",
    "        \n",
    "    # Exercises:\n",
    "        # if protein > x level\n",
    "            # exercise 1 (60 min walk daily)\n",
    "            # exercise 2 (30  min brisk walk/jogging)\n",
    "            # exercise 3 (20 min heavylifting)\n",
    "        # if calories > y level\n",
    "            # ex 4 (cardio exercises, 2h biking or 1h rowing)\n",
    "            # replace 'refined sugar' with 'unrefined sugar'\n",
    "            \n",
    "#MANUAL:\n",
    "\n",
    "  ## Module 1 (Recommended Nutrients for human being)\n",
    "     \n",
    "     # drop down menu\n",
    "    \n",
    "     # bar graphs/ pie charts two for each men, women, pregnant women: all nutrients\n",
    "        \n",
    "  ## Module 2 (Nutrient levels for cereals)\n",
    "     \n",
    "     # info about cereals\n",
    "        \n",
    "     # \n",
    "        \n",
    "        \n",
    "        \n",
    "        \n",
    "        \n",
    "        \n",
    "        \n",
    "        \n",
    "        \n",
    "    "
   ]
  },
  {
   "cell_type": "code",
   "execution_count": 15,
   "metadata": {},
   "outputs": [
    {
     "data": {
      "image/png": "[encoded data removed]",
      "text/plain": [
       "<Figure size 432x288 with 1 Axes>"
      ]
     },
     "metadata": {
      "needs_background": "light"
     },
     "output_type": "display_data"
    }
   ],
   "source": [
    "import matplotlib.pyplot as plt \n",
    "  \n",
    "# x-coordinates of left sides of bars  \n",
    "category = [1, 2, 3] \n",
    "  \n",
    "# heights of bars \n",
    "protein = [65, 50, 55] \n",
    "  \n",
    "# labels for bars \n",
    "tick_label = ['men', 'women', 'pregnant women'] \n",
    "  \n",
    "# plotting a bar chart \n",
    "plt.bar(category, protein, tick_label = tick_label, \n",
    "        width = 0.8, color = ['red', 'green', 'blue']) \n",
    "  \n",
    "# naming the x-axis \n",
    "plt.xlabel('Gender') \n",
    "# naming the y-axis \n",
    "plt.ylabel('Proetein') \n",
    "# plot title \n",
    "plt.title('Protein requirement') \n",
    "  \n",
    "# function to show the plot \n",
    "plt.show()"
   ]
  },
  {
   "cell_type": "code",
   "execution_count": 17,
   "metadata": {},
   "outputs": [
    {
     "data": {
      "image/png": "[encoded data removed]",
      "text/plain": [
       "<Figure size 432x288 with 1 Axes>"
      ]
     },
     "metadata": {
      "needs_background": "light"
     },
     "output_type": "display_data"
    }
   ],
   "source": [
    "import matplotlib.pyplot as plt \n",
    "  \n",
    "# x-coordinates of left sides of bars  \n",
    "Category = [1, 2, 3] \n",
    "  \n",
    "# heights of bars \n",
    "Calories = [2900, 2000, 2500] \n",
    "  \n",
    "# labels for bars \n",
    "tick_label = ['men', 'women', 'pregnant women'] \n",
    "  \n",
    "# plotting a bar chart \n",
    "plt.bar(Category, Calories, tick_label = tick_label, \n",
    "        width = 0.8, color = ['red', 'green', 'blue']) \n",
    "  \n",
    "# naming the x-axis \n",
    "plt.xlabel('Gender') \n",
    "# naming the y-axis \n",
    "plt.ylabel('Proetein') \n",
    "# plot title \n",
    "plt.title('Calories requirement') \n",
    "  \n",
    "# function to show the plot \n",
    "plt.show()"
   ]
  },
  {
   "cell_type": "code",
   "execution_count": 18,
   "metadata": {},
   "outputs": [
    {
     "ename": "SyntaxError",
     "evalue": "invalid syntax (<ipython-input-18-c2c63735af0c>, line 1)",
     "output_type": "error",
     "traceback": [
      "\u001b[0;36m  File \u001b[0;32m\"<ipython-input-18-c2c63735af0c>\"\u001b[0;36m, line \u001b[0;32m1\u001b[0m\n\u001b[0;31m    def Graphs:\u001b[0m\n\u001b[0m              ^\u001b[0m\n\u001b[0;31mSyntaxError\u001b[0m\u001b[0;31m:\u001b[0m invalid syntax\n"
     ]
    }
   ],
   "source": [
    "def Graphs:\n",
    "    import matplotlib.pyplot as plt \n",
    "  \n",
    "# x-coordinates of left sides of bars  \n",
    "    Category = [1, 2, 3] \n",
    "  \n",
    "# heights of bars \n",
    "    Calories = [2900, 2000, 2500] \n",
    "  \n",
    "# labels for bars \n",
    "    tick_label = ['men', 'women', 'pregnant women'] \n",
    "  \n",
    "# plotting a bar chart \n",
    "    plt.bar(Category, Calories, tick_label = tick_label, \n",
    "        width = 0.8, color = ['red', 'green', 'blue']) \n",
    "  \n",
    "# naming the x-axis \n",
    "    plt.xlabel('Gender') \n",
    "# naming the y-axis \n",
    "    plt.ylabel('Proetein') \n",
    "# plot title \n",
    "    plt.title('Calories requirement') \n",
    "  \n",
    "# function to show the plot \n",
    "    plt.show()\n",
    "    "
   ]
  },
  {
   "cell_type": "code",
   "execution_count": null,
   "metadata": {},
   "outputs": [],
   "source": [
    "import pandas as pd\n",
    "df_men = pd.DataFrame({\"Protein\": 65, \"Calories\": 2900})\n",
    "df_women = pd.DataFrame({\"Protein\": 50, \"Calories\": 2000})\n",
    "\n"
   ]
  }
 ],
 "metadata": {
  "kernelspec": {
   "display_name": "Python 3",
   "language": "python",
   "name": "python3"
  },
  "language_info": {
   "codemirror_mode": {
    "name": "ipython",
    "version": 3
   },
   "file_extension": ".py",
   "mimetype": "text/x-python",
   "name": "python",
   "nbconvert_exporter": "python",
   "pygments_lexer": "ipython3",
   "version": "3.8.3"
  }
 },
 "nbformat": 4,
 "nbformat_minor": 4
}
