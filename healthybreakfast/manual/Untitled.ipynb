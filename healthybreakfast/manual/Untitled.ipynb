{
 "cells": [
  {
   "cell_type": "code",
   "execution_count": 2,
   "metadata": {},
   "outputs": [
    {
     "ename": "ModuleNotFoundError",
     "evalue": "No module named 'healthybreakfast'",
     "output_type": "error",
     "traceback": [
      "\u001b[0;31m---------------------------------------------------------------------------\u001b[0m",
      "\u001b[0;31mModuleNotFoundError\u001b[0m                       Traceback (most recent call last)",
      "\u001b[0;32m<ipython-input-2-499989f282bb>\u001b[0m in \u001b[0;36m<module>\u001b[0;34m\u001b[0m\n\u001b[0;32m----> 1\u001b[0;31m \u001b[0;32mimport\u001b[0m \u001b[0mhealthybreakfast\u001b[0m\u001b[0;34m.\u001b[0m\u001b[0mmanual\u001b[0m\u001b[0;34m.\u001b[0m\u001b[0mCereals1\u001b[0m \u001b[0;32mas\u001b[0m \u001b[0mMC1\u001b[0m\u001b[0;34m\u001b[0m\u001b[0;34m\u001b[0m\u001b[0m\n\u001b[0m\u001b[1;32m      2\u001b[0m \u001b[0;32mimport\u001b[0m \u001b[0mpandas\u001b[0m \u001b[0;32mas\u001b[0m \u001b[0mpd\u001b[0m\u001b[0;34m\u001b[0m\u001b[0;34m\u001b[0m\u001b[0m\n",
      "\u001b[0;31mModuleNotFoundError\u001b[0m: No module named 'healthybreakfast'"
     ]
    }
   ],
   "source": [
    "import healthybreakfast.manual.Cereals1 as MC1\n",
    "import pandas as pd"
   ]
  },
  {
   "cell_type": "code",
   "execution_count": null,
   "metadata": {},
   "outputs": [],
   "source": [
    "data = pd.read_excel(\"cereal.xlsx\", sheet_name='Modified_Cereal', index_col=0)\n",
    "\n",
    "class TestMC1(unittest.TestCase):\n",
    "    def test_display_Cereals1(self):\n",
    "        c = MC1.Cereals_nutrition1()\n",
    "        x = c.display_Cereals1()\n",
    "        \n",
    "        nutrients= x.patches\n",
    "\n",
    "        calories = nutrients[:74]\n",
    "        protein = nutrients[74:2*74]\n",
    "        fat = nutrients[2*74:3*74]\n",
    "        sodium = nutrients[3*74:4*74]\n",
    "        \n",
    "        self.assertEqual(calories[0].get_width(), data.iloc[0,0])\n",
    "        #self.assertIn(\"protein\", c.bar_chart.x_labels)\n",
    "        \n",
    "unittest.main(argv=[''], verbosity=2, exit=False)"
   ]
  }
 ],
 "metadata": {
  "kernelspec": {
   "display_name": "Python 3",
   "language": "python",
   "name": "python3"
  },
  "language_info": {
   "codemirror_mode": {
    "name": "ipython",
    "version": 3
   },
   "file_extension": ".py",
   "mimetype": "text/x-python",
   "name": "python",
   "nbconvert_exporter": "python",
   "pygments_lexer": "ipython3",
   "version": "3.8.3"
  }
 },
 "nbformat": 4,
 "nbformat_minor": 4
}
