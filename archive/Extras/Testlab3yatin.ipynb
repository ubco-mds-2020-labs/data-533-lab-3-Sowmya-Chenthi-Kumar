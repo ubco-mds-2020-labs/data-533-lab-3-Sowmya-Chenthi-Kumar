{
 "cells": [
  {
   "cell_type": "code",
   "execution_count": 1,
   "metadata": {},
   "outputs": [],
   "source": [
    "import unittest\n",
    "import healthybreakfast.manual.Person as MP\n",
    "import healthybreakfast.manual.Cereals as MC\n",
    "import healthybreakfast.manual.Cereals1 as MC1\n",
    "import pandas as pd"
   ]
  },
  {
   "cell_type": "code",
   "execution_count": 2,
   "metadata": {},
   "outputs": [
    {
     "name": "stderr",
     "output_type": "stream",
     "text": [
      "test_diet (__main__.TestMP) ... "
     ]
    },
    {
     "name": "stdout",
     "output_type": "stream",
     "text": [
      "Setup class\n",
      "Setup method\n",
      "Teardown method\n",
      "Teardown class\n"
     ]
    },
    {
     "name": "stderr",
     "output_type": "stream",
     "text": [
      "ok\n",
      "\n",
      "----------------------------------------------------------------------\n",
      "Ran 1 test in 0.001s\n",
      "\n",
      "OK\n"
     ]
    },
    {
     "data": {
      "text/plain": [
       "<unittest.main.TestProgram at 0x7f9f418e8670>"
      ]
     },
     "execution_count": 2,
     "metadata": {},
     "output_type": "execute_result"
    }
   ],
   "source": [
    "# test case 1 (Person module, default_values )\n",
    "class TestMP(unittest.TestCase):\n",
    "    # Define the setup method:\n",
    "    def setUp(self):\n",
    "        #d2=dd.Deficiency(25,1000,\"Sowmya\")\n",
    "        #self.x1=d2.women()\n",
    "        #self.x2=d2.men(23,2400,\"Murali\")\n",
    "        print(\"Setup method\")\n",
    "        \n",
    "    # Define the teardown method:\n",
    "    def tearDown(self):\n",
    "        print(\"Teardown method\")\n",
    "        \n",
    "    # Define the setup class:\n",
    "    @classmethod\n",
    "    def setUpClass(cls):\n",
    "        print(\"Setup class\")\n",
    "        \n",
    "    # Define the teardown class:\n",
    "    @classmethod\n",
    "    def tearDownClass(cls):\n",
    "        print(\"Teardown class\")\n",
    "        \n",
    "    def test_diet(self):\n",
    "        p = MP.diet()\n",
    "        var = {\"protein\": 56,\"cal\": 2500,\"fat\":83, \"sodium\":2300, \"fiber\":38, \"carbs\":300,\"potassium\":3000}\n",
    "        test = p.default_values(\"man\",\"nutrient\")\n",
    "        #p.default_values()\n",
    "        self.assertEqual(test['protein'],var['protein'])\n",
    "        self.assertEqual(test['cal'],var['cal'])\n",
    "        self.assertEqual(test['fat'],var['fat'])\n",
    "        self.assertEqual(test['sodium'],var['sodium'])\n",
    "        \n",
    "unittest.main(argv=[''], verbosity=2, exit=False)"
   ]
  },
  {
   "cell_type": "code",
   "execution_count": null,
   "metadata": {},
   "outputs": [],
   "source": []
  },
  {
   "cell_type": "code",
   "execution_count": null,
   "metadata": {},
   "outputs": [],
   "source": [
    "\n",
    "class TestMC(unittest.TestCase):\n",
    "    def test_display_Cereals(self):\n",
    "        c = MC.Cereals_nutrition()\n",
    "        c.display_Cereals()\n",
    "        self.assertEqual(c.bar_chart.title, \"Nutrient composition of cereals\")\n",
    "        #self.assertIn(\"protein\", c.bar_chart.x_labels)\n",
    "        \n",
    "unittest.main(argv=[''], verbosity=2, exit=False)"
   ]
  },
  {
   "cell_type": "code",
   "execution_count": null,
   "metadata": {},
   "outputs": [],
   "source": [
    "# test case 2 (Cereals.py, deficiency_nutrition)\n",
    "\n",
    "class TestMC1(unittest.TestCase):\n",
    "    def test_display_worldmap(self):\n",
    "        d = MC.deficiency_nutrition()\n",
    "        d.display_worldmap()\n",
    "        self.assertEqual(d.worldmap.title, \"Nutrient deficient countries\")\n",
    "        #self.assertIn(\"in\", d.worldmap.Protein deficient)\n",
    "        \n",
    "unittest.main(argv=[''], verbosity=2, exit=False)"
   ]
  },
  {
   "cell_type": "code",
   "execution_count": null,
   "metadata": {},
   "outputs": [],
   "source": []
  },
  {
   "cell_type": "code",
   "execution_count": null,
   "metadata": {},
   "outputs": [],
   "source": [
    "# test case 3 (Cereals1.py, Cereals_nutrition)\n",
    "data = pd.read_excel(\"cereal.xlsx\", sheet_name='Modified_Cereal', index_col=0)\n",
    "\n",
    "class TestMC1(unittest.TestCase):\n",
    "    \n",
    "    # Define the setup method:\n",
    "    def setUp(self):\n",
    "        #d2=dd.Deficiency(25,1000,\"Sowmya\")\n",
    "        #self.x1=d2.women()\n",
    "        #self.x2=d2.men(23,2400,\"Murali\")\n",
    "        print(\"Setup method\")\n",
    "        \n",
    "    # Define the teardown method:\n",
    "    def tearDown(self):\n",
    "        print(\"Teardown method\")\n",
    "        \n",
    "    # Define the setup class:\n",
    "    @classmethod\n",
    "    def setUpClass(cls):\n",
    "        print(\"Setup class\")\n",
    "        \n",
    "    # Define the teardown class:\n",
    "    @classmethod\n",
    "    def tearDownClass(cls):\n",
    "        print(\"Teardown class\")\n",
    "    \n",
    "    def test_display_Cereals1(self):\n",
    "        c = MC1.Cereals_nutrition1()\n",
    "        x = c.display_Cereals1()\n",
    "        \n",
    "        nutrients= x.patches\n",
    "\n",
    "        calories = nutrients[:74]\n",
    "        protein = nutrients[74:2*74]\n",
    "        fat = nutrients[2*74:3*74]\n",
    "        sodium = nutrients[3*74:4*74]\n",
    "        \n",
    "        self.assertEqual(calories[0].get_width(), data.iloc[0,0])\n",
    "        self.assertEqual(calories[1].get_width(), data.iloc[1,0])\n",
    "        self.assertEqual(protein[0].get_width(), data.iloc[0,1])\n",
    "        self.assertEqual(protein[1].get_width(), data.iloc[1,1])\n",
    "        \n",
    "        #self.assertIn(\"protein\", c.bar_chart.x_labels)\n",
    "        \n",
    "unittest.main(argv=[''], verbosity=2, exit=False)"
   ]
  },
  {
   "cell_type": "code",
   "execution_count": null,
   "metadata": {},
   "outputs": [],
   "source": [
    "class TestMP(unittest.TestCase):\n",
    "    def test_manual_display(self):\n",
    "        m = MP.manual_display(\"man\", \"protein\")\n",
    "        y = m.required_bar_graphs()\n",
    "        \n",
    "        z = y.patches\n",
    "        \n",
    "        self.assertEqual(z[0].get_width(), 70)\n",
    "        \n",
    "        #self.assertIn(\"protein\", c.bar_chart.x_labels)\n",
    "        \n",
    "unittest.main(argv=[''], verbosity=2, exit=False)"
   ]
  },
  {
   "cell_type": "code",
   "execution_count": null,
   "metadata": {},
   "outputs": [],
   "source": []
  }
 ],
 "metadata": {
  "kernelspec": {
   "display_name": "Python 3",
   "language": "python",
   "name": "python3"
  },
  "language_info": {
   "codemirror_mode": {
    "name": "ipython",
    "version": 3
   },
   "file_extension": ".py",
   "mimetype": "text/x-python",
   "name": "python",
   "nbconvert_exporter": "python",
   "pygments_lexer": "ipython3",
   "version": "3.8.3"
  }
 },
 "nbformat": 4,
 "nbformat_minor": 4
}
